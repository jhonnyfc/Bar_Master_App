{
 "nbformat": 4,
 "nbformat_minor": 2,
 "metadata": {
  "language_info": {
   "name": "python",
   "codemirror_mode": {
    "name": "ipython",
    "version": 3
   },
   "version": "3.7.3-final"
  },
  "orig_nbformat": 2,
  "file_extension": ".py",
  "mimetype": "text/x-python",
  "name": "python",
  "npconvert_exporter": "python",
  "pygments_lexer": "ipython3",
  "version": 3,
  "kernelspec": {
   "name": "python37364bitbasecondaf6d9d31913aa4908803ae05263204ddf",
   "display_name": "Python 3.7.3 64-bit ('base': conda)"
  }
 },
 "cells": [
  {
   "cell_type": "code",
   "execution_count": 32,
   "metadata": {},
   "outputs": [],
   "source": [
    "import numpy as np\n",
    "import pandas as pd\n",
    "import json\n",
    "import httplib2\n",
    "import os\n",
    "import time"
   ]
  },
  {
   "cell_type": "code",
   "execution_count": 33,
   "metadata": {},
   "outputs": [],
   "source": [
    "def leerNameFotos(nombre):\n",
    "    dirPrincipal = os.path.abspath(os.getcwd())\n",
    "    os.chdir(dirPrincipal+'\\\\'+nombre)\n",
    "    listaPos = os.listdir()\n",
    "    os.chdir(dirPrincipal)\n",
    "    return listaPos"
   ]
  },
  {
   "cell_type": "code",
   "execution_count": 34,
   "metadata": {},
   "outputs": [],
   "source": [
    "def uploadData(TableName,dataDict):\n",
    "   cabecera = {\"X-Parse-Application-Id\": \"myAppId\",\n",
    "       \"Content-Type\": \"application/json\"}\n",
    "\n",
    "   http  = httplib2.Http()\n",
    "   request, content = http.request(\"https://swapp12.herokuapp.com/parse/classes/\"+TableName, \n",
    "                       method=\"POST\", \n",
    "                       headers=cabecera,\n",
    "                       body= json.dumps(dataDict))\n",
    "   # print(request)\n",
    "   # print()\n",
    "   # print(content)\n",
    "   # print()"
   ]
  },
  {
   "cell_type": "code",
   "execution_count": 35,
   "metadata": {},
   "outputs": [],
   "source": [
    "def uploadFotoJPG(name,foto):\n",
    "   cabecera = {\"X-Parse-Application-Id\": \"myAppId\",\n",
    "       \"Content-Type\": \"image/jpeg\"}\n",
    "\n",
    "   http = httplib2.Http()\n",
    "   request, content = http.request(\"https://swapp12.herokuapp.com/parse/files/pic.jpg\", \n",
    "                       method=\"POST\", \n",
    "                       headers=cabecera,\n",
    "                       body= foto)\n",
    "   # print(request)\n",
    "   # print()\n",
    "   # print(content)\n",
    "   #  print(json.loads(content)['name'])\n",
    "   uploadData(\"FotosAll\", {'fotoName':name.replace('.jpg',''),\"picture\":{'url':str(json.loads(content)['url']),'name':str(json.loads(content)['name']), \"__type\": \"File\"} } )"
   ]
  },
  {
   "cell_type": "code",
   "execution_count": 36,
   "metadata": {},
   "outputs": [
    {
     "data": {
      "text/html": "<div>\n<style scoped>\n    .dataframe tbody tr th:only-of-type {\n        vertical-align: middle;\n    }\n\n    .dataframe tbody tr th {\n        vertical-align: top;\n    }\n\n    .dataframe thead th {\n        text-align: right;\n    }\n</style>\n<table border=\"1\" class=\"dataframe\">\n  <thead>\n    <tr style=\"text-align: right;\">\n      <th></th>\n      <th>id_gr</th>\n      <th>grup_name</th>\n      <th>im_code</th>\n    </tr>\n  </thead>\n  <tbody>\n    <tr>\n      <th>0</th>\n      <td>0</td>\n      <td>Full Body</td>\n      <td>gr0</td>\n    </tr>\n    <tr>\n      <th>1</th>\n      <td>1</td>\n      <td>Chest &amp; Triceps</td>\n      <td>gr1</td>\n    </tr>\n    <tr>\n      <th>2</th>\n      <td>2</td>\n      <td>Legs</td>\n      <td>gr2</td>\n    </tr>\n    <tr>\n      <th>3</th>\n      <td>3</td>\n      <td>Back &amp; Biceps</td>\n      <td>gr3</td>\n    </tr>\n    <tr>\n      <th>4</th>\n      <td>4</td>\n      <td>Core</td>\n      <td>gr4</td>\n    </tr>\n    <tr>\n      <th>5</th>\n      <td>5</td>\n      <td>Shoulders</td>\n      <td>gr5</td>\n    </tr>\n    <tr>\n      <th>6</th>\n      <td>6</td>\n      <td>Personalizado</td>\n      <td>gr6</td>\n    </tr>\n  </tbody>\n</table>\n</div>",
      "text/plain": "  id_gr        grup_name im_code\n0     0        Full Body     gr0\n1     1  Chest & Triceps     gr1\n2     2             Legs     gr2\n3     3    Back & Biceps     gr3\n4     4             Core     gr4\n5     5        Shoulders     gr5\n6     6    Personalizado     gr6"
     },
     "execution_count": 36,
     "metadata": {},
     "output_type": "execute_result"
    }
   ],
   "source": [
    "grupMuscData = pd.read_csv('info/grupos_musculares.txt',delimiter=';',dtype=\"str\")\n",
    "grupMuscData"
   ]
  },
  {
   "cell_type": "code",
   "execution_count": 37,
   "metadata": {},
   "outputs": [
    {
     "name": "stdout",
     "output_type": "stream",
     "text": "b'{\"objectId\":\"HCObvTJxBK\",\"createdAt\":\"2020-03-14T17:41:16.760Z\"}'\nb'{\"objectId\":\"3DWmjAhuHb\",\"createdAt\":\"2020-03-14T17:41:17.414Z\"}'\nb'{\"objectId\":\"VKEmlzRlLk\",\"createdAt\":\"2020-03-14T17:41:17.715Z\"}'\nb'{\"objectId\":\"dLEEhWZUjZ\",\"createdAt\":\"2020-03-14T17:41:18.018Z\"}'\nb'{\"objectId\":\"G5Wd9GldvA\",\"createdAt\":\"2020-03-14T17:41:18.340Z\"}'\nb'{\"objectId\":\"p1xgCpA3yt\",\"createdAt\":\"2020-03-14T17:41:18.662Z\"}'\nb'{\"objectId\":\"o5Is8NJrLl\",\"createdAt\":\"2020-03-14T17:41:19.068Z\"}'\n"
    }
   ],
   "source": [
    "for i in range(grupMuscData.shape[0]):\n",
    "    uploadData('GrupoMuscular',grupMuscData.iloc[i,:].to_dict())"
   ]
  },
  {
   "cell_type": "code",
   "execution_count": 39,
   "metadata": {},
   "outputs": [
    {
     "name": "stdout",
     "output_type": "stream",
     "text": "b'{\"url\":\"http://swapp12.herokuapp.com/parse/files/myAppId/7aeb6797bfd9dde67431a8b555cee4b5_pic.jpg\",\"name\":\"7aeb6797bfd9dde67431a8b555cee4b5_pic.jpg\"}'\nb'{\"objectId\":\"j49ewHI9gg\",\"createdAt\":\"2020-03-14T17:50:26.909Z\"}'\nb'{\"url\":\"http://swapp12.herokuapp.com/parse/files/myAppId/5e78a1b8974aa1deda2200a8af7c0748_pic.jpg\",\"name\":\"5e78a1b8974aa1deda2200a8af7c0748_pic.jpg\"}'\nb'{\"objectId\":\"Q4nEaOmgn4\",\"createdAt\":\"2020-03-14T17:50:28.074Z\"}'\nb'{\"url\":\"http://swapp12.herokuapp.com/parse/files/myAppId/cd714cc49651d8d47cd742a1fd003dca_pic.jpg\",\"name\":\"cd714cc49651d8d47cd742a1fd003dca_pic.jpg\"}'\nb'{\"objectId\":\"Ar2SE1Yupg\",\"createdAt\":\"2020-03-14T17:50:29.059Z\"}'\nb'{\"url\":\"http://swapp12.herokuapp.com/parse/files/myAppId/a356aec7319e85d1d77420091cadf4b8_pic.jpg\",\"name\":\"a356aec7319e85d1d77420091cadf4b8_pic.jpg\"}'\nb'{\"objectId\":\"8Jj18d8uVa\",\"createdAt\":\"2020-03-14T17:50:29.983Z\"}'\nb'{\"url\":\"http://swapp12.herokuapp.com/parse/files/myAppId/b83f0e8796bed4fe099daeeaf860bf13_pic.jpg\",\"name\":\"b83f0e8796bed4fe099daeeaf860bf13_pic.jpg\"}'\nb'{\"objectId\":\"jynsCDEyLL\",\"createdAt\":\"2020-03-14T17:50:30.939Z\"}'\nb'{\"url\":\"http://swapp12.herokuapp.com/parse/files/myAppId/1e2a3a92b0045fe2befbb6cd9b75bfaa_pic.jpg\",\"name\":\"1e2a3a92b0045fe2befbb6cd9b75bfaa_pic.jpg\"}'\nb'{\"objectId\":\"9rfi5plvUv\",\"createdAt\":\"2020-03-14T17:50:31.862Z\"}'\nb'{\"url\":\"http://swapp12.herokuapp.com/parse/files/myAppId/001385be0c1fe9efbe0581202a566a9f_pic.jpg\",\"name\":\"001385be0c1fe9efbe0581202a566a9f_pic.jpg\"}'\nb'{\"objectId\":\"aSDWYldNNT\",\"createdAt\":\"2020-03-14T17:50:32.943Z\"}'\n"
    }
   ],
   "source": [
    "for i,name in enumerate(leerNameFotos('grupos_musculares')):\n",
    "    foto = open('grupos_musculares/'+name, 'rb').read()\n",
    "    uploadFotoJPG(name,foto)"
   ]
  },
  {
   "cell_type": "markdown",
   "metadata": {},
   "source": [
    "<br><br><br><br><br><br><br><br><br><br><br><br><br>"
   ]
  }
 ]
}